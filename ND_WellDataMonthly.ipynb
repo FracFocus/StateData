{
 "cells": [
  {
   "cell_type": "code",
   "execution_count": null,
   "metadata": {},
   "outputs": [],
   "source": [
    "import requests\n",
    "import xlrd\n",
    "import csv\n",
    "import pandas as pd\n",
    "from datetime import datetime\n",
    "from dateutil.relativedelta import relativedelta\n"
   ]
  },
  {
   "cell_type": "code",
   "execution_count": null,
   "metadata": {},
   "outputs": [],
   "source": [
    "# create list of all yyyy-mm for data download\n",
    "ymList = pd.date_range('2015-04-10',datetime.today()- relativedelta(months=2), freq='MS').strftime(\"%Y_%m\").tolist()  # with month in numeric format   \n",
    "\n",
    "# Access the ND DMR data @ https://www.dmr.nd.gov/oilgas/mprindex.asp\n",
    "website = \"https://www.dmr.nd.gov/oilgas/mpr/\""
   ]
  },
  {
   "cell_type": "code",
   "execution_count": null,
   "metadata": {},
   "outputs": [],
   "source": [
    "NDMWD = []  #list()  # North Dakota Monthly Well Data\n",
    "for month in ymList:\n",
    "    target_url = website + month + '.xlsx'\n",
    "    r = requests.get(target_url)\n",
    "    wb = pd.read_excel(xlrd.open_workbook(file_contents=r.content))\n",
    "    NDMWD.append(wb)\n",
    "    \n",
    "NDMWD = pd.concat(NDMWD)    "
   ]
  },
  {
   "cell_type": "code",
   "execution_count": null,
   "metadata": {},
   "outputs": [],
   "source": [
    "#Create ND monthly well data\n",
    "NDMWD.to_csv('NDMWD.csv')"
   ]
  }
 ],
 "metadata": {
  "kernelspec": {
   "display_name": "Python 3",
   "language": "python",
   "name": "python3"
  },
  "language_info": {
   "codemirror_mode": {
    "name": "ipython",
    "version": 3
   },
   "file_extension": ".py",
   "mimetype": "text/x-python",
   "name": "python",
   "nbconvert_exporter": "python",
   "pygments_lexer": "ipython3",
   "version": "3.8.3"
  }
 },
 "nbformat": 4,
 "nbformat_minor": 4
}
